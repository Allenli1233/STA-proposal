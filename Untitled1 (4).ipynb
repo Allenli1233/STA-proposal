{
 "cells": [
  {
   "cell_type": "markdown",
   "id": "c35f9fc9",
   "metadata": {},
   "source": [
    "# Research Proposal\n",
    "\n",
    "## Research Problem\n",
    "The purpose of this study is to examine whether specific mental health and social support indices significantly impact individual well-being. We will test whether subjective happiness, depression screening scores, and social loneliness are predictive of life satisfaction. This will help us understand which aspects of mental and social health are more crucial in contributing to overall well-being.\n",
    "\n",
    "## 1a. Variables and Planned Analysis\n"
   ]
  },
  {
   "cell_type": "markdown",
   "id": "0687b1a2",
   "metadata": {},
   "source": [
    "### Variables\n",
    "1. **WELLNESS_phq_score** (PHQ Score): A screening score for depression, used as an indicator of mental wellness. We hypothesize that the mean PHQ score aligns with the known population average.\n",
    "2. **LONELY_ucla_loneliness_scale_score** (UCLA Loneliness Scale): A measure of social loneliness. We will compare loneliness scores based on recent friendship formation.\n",
    "3. **WELLNESS_life_satisfaction** and **LONELY_dejong_social_loneliness_sub_scale_score**: Measures of life satisfaction and social loneliness, where we’ll examine if an inverse relationship exists, suggesting that lower loneliness is associated with higher life satisfaction.\n"
   ]
  },
  {
   "cell_type": "markdown",
   "id": "9111bc8e",
   "metadata": {},
   "source": [
    "### Planned Analyses\n",
    "1. **One-sample hypothesis test**: We will analyze the PHQ score by comparing its mean to a known population average. The bootstrap confidence interval for the mean will help us determine whether this variable significantly differs from the expected average, allowing us to decide if the null hypothesis should be rejected.\n"
   ]
  },
  {
   "cell_type": "code",
   "execution_count": null,
   "id": "69b095ad",
   "metadata": {},
   "outputs": [],
   "source": [
    "# One-sample hypothesis test for WELLNESS_phq_score\n",
    "import numpy as np\n",
    "import scipy.stats as stats\n",
    "\n",
    "# Sample PHQ scores data (replace this with your actual data)\n",
    "phq_scores = dataV2_cohortV3['WELLNESS_phq_score'].dropna()\n",
    "\n",
    "# Hypothesized mean for PHQ score (replace with actual hypothesized mean)\n",
    "hypothesized_mean = 10\n",
    "\n",
    "# Bootstrap confidence interval\n",
    "bootstrap_means = [np.mean(np.random.choice(phq_scores, size=len(phq_scores), replace=True)) for _ in range(1000)]\n",
    "ci_lower, ci_upper = np.percentile(bootstrap_means, [2.5, 97.5])\n",
    "\n",
    "print(f\"Bootstrap 95% CI: ({ci_lower:.2f}, {ci_upper:.2f})\")\n"
   ]
  },
  {
   "cell_type": "markdown",
   "id": "894117e4",
   "metadata": {},
   "source": [
    "2. **Two-sample hypothesis test**: To assess social loneliness differences based on recent friendship formation, we’ll compare the mean LONELY_ucla_loneliness_scale_score between participants who recently formed new friendships (CONNECTION_activities_new_friend_pm = \"Yes\") and those who did not (CONNECTION_activities_new_friend_pm = \"No\") using a two-sample t-test.\n"
   ]
  },
  {
   "cell_type": "code",
   "execution_count": null,
   "id": "675d3dc5",
   "metadata": {},
   "outputs": [],
   "source": [
    "# Two-sample t-test for LONELY_ucla_loneliness_scale_score based on friendship formation\n",
    "loneliness_scores = dataV2_cohortV3['LONELY_ucla_loneliness_scale_score'].dropna()\n",
    "friend_yes = loneliness_scores[dataV2_cohortV3['CONNECTION_activities_new_friend_pm'] == 'Yes']\n",
    "friend_no = loneliness_scores[dataV2_cohortV3['CONNECTION_activities_new_friend_pm'] == 'No']\n",
    "\n",
    "# Perform two-sample t-test\n",
    "t_stat, p_val = stats.ttest_ind(friend_yes, friend_no, equal_var=False)\n",
    "print(f\"Two-sample t-test: t-statistic = {t_stat:.2f}, p-value = {p_val:.3f}\")\n"
   ]
  },
  {
   "cell_type": "markdown",
   "id": "a81d7fa7",
   "metadata": {},
   "source": [
    "3. **Simple linear regression**: To explore the relationship between life satisfaction and social loneliness, we’ll use WELLNESS_life_satisfaction as the dependent variable (Y) and LONELY_dejong_social_loneliness_sub_scale_score as the independent variable (X). We hypothesize that an increase in social loneliness will be associated with a decrease in life satisfaction, potentially showing an inverse relationship.\n"
   ]
  },
  {
   "cell_type": "code",
   "execution_count": null,
   "id": "8330b50e",
   "metadata": {},
   "outputs": [],
   "source": [
    "# Simple linear regression between WELLNESS_life_satisfaction and LONELY_dejong_social_loneliness_sub_scale_score\n",
    "import statsmodels.api as sm\n",
    "\n",
    "# Variables\n",
    "X = dataV2_cohortV3['LONELY_dejong_social_loneliness_sub_scale_score'].dropna()\n",
    "Y = dataV2_cohortV3['WELLNESS_life_satisfaction'].dropna()\n",
    "\n",
    "# Fit the model\n",
    "X = sm.add_constant(X)  # Add an intercept to the model\n",
    "model = sm.OLS(Y, X).fit()\n",
    "print(model.summary())\n"
   ]
  },
  {
   "cell_type": "markdown",
   "id": "e0028fb0",
   "metadata": {},
   "source": [
    "## 2a. Potential Outcomes and Relation to Course Goals\n",
    "\n",
    "1. **One-sample hypothesis test**: If the bootstrap confidence interval excludes the population mean, it suggests unique characteristics in the sample's mental wellness, possibly due to specific social or environmental factors. This aligns with course goals to understand variances in mental health within different demographics.\n",
    "\n",
    "2. **Two-sample hypothesis test**: Finding significant differences in loneliness scores between those with and without new friendships may suggest that friendship formation plays a key role in reducing loneliness. This supports course objectives by identifying social factors that impact well-being.\n",
    "\n",
    "3. **Simple linear regression**: If a significant negative relationship between life satisfaction and social loneliness is observed, it suggests that fostering social connections could improve life satisfaction. This aligns with understanding predictors of well-being, a central course goal.\n"
   ]
  },
  {
   "cell_type": "markdown",
   "id": "37adf903",
   "metadata": {},
   "source": [
    "## 3. Possible Results\n",
    "\n",
    "1. **PHQ Score**: We may find the PHQ score significantly differs from the known population mean, indicating distinct mental health trends in the sample.\n",
    "2. **Loneliness and New Friendships**: A significant difference in loneliness scores would imply that forming new friendships helps alleviate loneliness, which could guide social intervention strategies.\n",
    "3. **Life Satisfaction and Loneliness**: If an inverse relationship is found, it underscores the impact of reducing loneliness on life satisfaction, advocating for strategies that enhance social connectedness.\n"
   ]
  },
  {
   "cell_type": "code",
   "execution_count": null,
   "id": "94a8d5c9",
   "metadata": {},
   "outputs": [],
   "source": []
  },
  {
   "cell_type": "code",
   "execution_count": null,
   "id": "f3d0df7a",
   "metadata": {},
   "outputs": [],
   "source": []
  },
  {
   "cell_type": "code",
   "execution_count": null,
   "id": "2a86a9c2",
   "metadata": {},
   "outputs": [],
   "source": []
  }
 ],
 "metadata": {
  "kernelspec": {
   "display_name": "Python 3 (ipykernel)",
   "language": "python",
   "name": "python3"
  },
  "language_info": {
   "codemirror_mode": {
    "name": "ipython",
    "version": 3
   },
   "file_extension": ".py",
   "mimetype": "text/x-python",
   "name": "python",
   "nbconvert_exporter": "python",
   "pygments_lexer": "ipython3",
   "version": "3.11.6"
  }
 },
 "nbformat": 4,
 "nbformat_minor": 5
}
